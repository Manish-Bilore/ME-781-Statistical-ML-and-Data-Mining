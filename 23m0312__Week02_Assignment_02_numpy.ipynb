{
  "nbformat": 4,
  "nbformat_minor": 0,
  "metadata": {
    "colab": {
      "provenance": [],
      "authorship_tag": "ABX9TyNNalEO1/W3e2iZklbRk0kP",
      "include_colab_link": true
    },
    "kernelspec": {
      "name": "python3",
      "display_name": "Python 3"
    },
    "language_info": {
      "name": "python"
    }
  },
  "cells": [
    {
      "cell_type": "markdown",
      "metadata": {
        "id": "view-in-github",
        "colab_type": "text"
      },
      "source": [
        "<a href=\"https://colab.research.google.com/github/Manish-Bilore/ME-781-Statistical-ML-and-Data-Mining/blob/main/23m0312__Week02_Assignment_02_numpy.ipynb\" target=\"_parent\"><img src=\"https://colab.research.google.com/assets/colab-badge.svg\" alt=\"Open In Colab\"/></a>"
      ]
    },
    {
      "cell_type": "markdown",
      "source": [
        "Python program that generates m random N-dimensional vectors where each coordinate of a vector follows a Gaussian distribution with zero mean and 1/N variance. The program should then calculate the distance of each vector from the origin and the angle between each pair of vectors."
      ],
      "metadata": {
        "id": "FTDdZ9YfYKDF"
      }
    },
    {
      "cell_type": "code",
      "execution_count": 94,
      "metadata": {
        "id": "DVhif87gV_JI"
      },
      "outputs": [],
      "source": [
        "# import\n",
        "import numpy as np"
      ]
    },
    {
      "cell_type": "code",
      "source": [
        "# generate m random N-dimensional vectors\n",
        "def genVec(m,N):\n",
        "  vec = np.random.normal(0, np.sqrt(1/N), (m,  N))\n",
        "  return vec\n",
        "\n",
        "# create a Gaussian (normal) distribution with:\n",
        "# Mean of 0\n",
        "# Standard deviation of sqrt(1/N) (which gives a variance of 1/N)\n",
        "# Shape of (m, N), creating m vectors of N dimensions each"
      ],
      "metadata": {
        "id": "UuC-9oHcWaM7"
      },
      "execution_count": 95,
      "outputs": []
    },
    {
      "cell_type": "code",
      "source": [
        "# Calculate the Euclidean distance of each vector from the origin\n",
        "def disCal(vec):\n",
        "  return np.linalg.norm(vec, axis=1) # each row => axis 1"
      ],
      "metadata": {
        "id": "XyPVr81mWwJK"
      },
      "execution_count": 96,
      "outputs": []
    },
    {
      "cell_type": "code",
      "source": [
        "# Calculate the angle between each pair of vector\n",
        "def angCal(vec):\n",
        "    m = vec.shape[0]\n",
        "    angles = np.zeros((m, m)) # empty matrix to store result\n",
        "\n",
        "    for i in range(m):\n",
        "        for j in range(i+1, m):\n",
        "            dotProduct = np.dot(vec[i], vec[j])\n",
        "            normsProduct = np.linalg.norm(vec[i]) * np.linalg.norm(vec[j])\n",
        "            angle = np.arccos(np.clip(dotProduct / normsProduct, -1.0, 1.0))\n",
        "            angles[i, j] = angles[j, i] = np.degrees(angle)\n",
        "\n",
        "    return angles"
      ],
      "metadata": {
        "id": "V4D1Wz-cW_kh"
      },
      "execution_count": 97,
      "outputs": []
    },
    {
      "cell_type": "markdown",
      "source": [
        "Basic Dimensions"
      ],
      "metadata": {
        "id": "xoOoqCY9a6Zu"
      }
    },
    {
      "cell_type": "code",
      "source": [
        "# Declaring the number of vectors and dimensions of the vectors\n",
        "\n",
        "# Number of vectors\n",
        "m = 5\n",
        "# Dimension of vectors\n",
        "N = 10000"
      ],
      "metadata": {
        "id": "-YdO5DCYa4zK"
      },
      "execution_count": 98,
      "outputs": []
    },
    {
      "cell_type": "code",
      "source": [
        "# Generate values by calling the functions\n",
        "vectors = genVec(m, N)\n",
        "distances = disCal(vectors)\n",
        "angles = angCal(vectors)"
      ],
      "metadata": {
        "id": "Dz19GGHsbaN8"
      },
      "execution_count": 99,
      "outputs": []
    },
    {
      "cell_type": "code",
      "source": [
        "# Print results\n",
        "\n",
        "\"\"\"\n",
        "print(\"Generated Vectors:\")\n",
        "for i, vector in enumerate(vectors):\n",
        "  print(f\"Vector {i+1}: {vector}\")\n",
        "   \"\"\"\n",
        "print(\"\\nDistances from origin: (units)\")\n",
        "for i, distance in enumerate(distances):\n",
        "  print(f\"Vector {i+1}: {round(distance, 3)}\")\n",
        "\n",
        "print(\"\\nAngles between vectors (in degrees):\")\n",
        "for i in range(m):\n",
        "  for j in range(i+1, m):\n",
        "    print(f\"Angle between Vector {i+1} and Vector {j+1}: {angles[i, j]:.2f}\")"
      ],
      "metadata": {
        "colab": {
          "base_uri": "https://localhost:8080/"
        },
        "id": "Uu1ZMQSJbdTj",
        "outputId": "e6b34f8e-af78-4310-9337-fe5faa9c8c70"
      },
      "execution_count": 100,
      "outputs": [
        {
          "output_type": "stream",
          "name": "stdout",
          "text": [
            "\n",
            "Distances from origin: (units)\n",
            "Vector 1: 0.998\n",
            "Vector 2: 1.006\n",
            "Vector 3: 1.002\n",
            "Vector 4: 1.001\n",
            "Vector 5: 1.001\n",
            "\n",
            "Angles between vectors (in degrees):\n",
            "Angle between Vector 1 and Vector 2: 91.19\n",
            "Angle between Vector 1 and Vector 3: 90.35\n",
            "Angle between Vector 1 and Vector 4: 89.58\n",
            "Angle between Vector 1 and Vector 5: 89.72\n",
            "Angle between Vector 2 and Vector 3: 89.83\n",
            "Angle between Vector 2 and Vector 4: 90.77\n",
            "Angle between Vector 2 and Vector 5: 91.02\n",
            "Angle between Vector 3 and Vector 4: 89.49\n",
            "Angle between Vector 3 and Vector 5: 89.33\n",
            "Angle between Vector 4 and Vector 5: 89.68\n"
          ]
        }
      ]
    },
    {
      "cell_type": "markdown",
      "source": [
        "Low number of  Dimension"
      ],
      "metadata": {
        "id": "Aun_4j8QaZgr"
      }
    },
    {
      "cell_type": "code",
      "source": [
        "# Declaring the number of vectors and dimensions of the vectors\n",
        "\n",
        "# Number of vectors\n",
        "m = 5\n",
        "# Dimension of vectors\n",
        "N = 10"
      ],
      "metadata": {
        "id": "BUFCuXpGaX-P"
      },
      "execution_count": 101,
      "outputs": []
    },
    {
      "cell_type": "code",
      "source": [
        "# Generate values by calling the functions\n",
        "vectors = genVec(m, N)\n",
        "distances = disCal(vectors)\n",
        "angles = angCal(vectors)"
      ],
      "metadata": {
        "id": "jSI7KXWAYgD7"
      },
      "execution_count": 102,
      "outputs": []
    },
    {
      "cell_type": "code",
      "source": [
        "# Print results\n",
        "\n",
        "\"\"\"\n",
        "print(\"Generated Vectors:\")\n",
        "for i, vector in enumerate(vectors):\n",
        "  print(f\"Vector {i+1}: {vector}\")\n",
        "   \"\"\"\n",
        "print(\"\\nDistances from origin: (units)\")\n",
        "for i, distance in enumerate(distances):\n",
        "  print(f\"Vector {i+1}: {round(distance, 3)}\")\n",
        "\n",
        "print(\"\\nAngles between vectors (in degrees):\")\n",
        "for i in range(m):\n",
        "  for j in range(i+1, m):\n",
        "    print(f\"Angle between Vector {i+1} and Vector {j+1}: {angles[i, j]:.2f}\")"
      ],
      "metadata": {
        "colab": {
          "base_uri": "https://localhost:8080/"
        },
        "id": "64MZrCPZZrnR",
        "outputId": "13da49a9-c68a-403f-ad66-80350c9960b8"
      },
      "execution_count": 103,
      "outputs": [
        {
          "output_type": "stream",
          "name": "stdout",
          "text": [
            "\n",
            "Distances from origin: (units)\n",
            "Vector 1: 0.543\n",
            "Vector 2: 0.964\n",
            "Vector 3: 0.749\n",
            "Vector 4: 0.755\n",
            "Vector 5: 1.093\n",
            "\n",
            "Angles between vectors (in degrees):\n",
            "Angle between Vector 1 and Vector 2: 88.74\n",
            "Angle between Vector 1 and Vector 3: 68.24\n",
            "Angle between Vector 1 and Vector 4: 69.05\n",
            "Angle between Vector 1 and Vector 5: 96.97\n",
            "Angle between Vector 2 and Vector 3: 71.39\n",
            "Angle between Vector 2 and Vector 4: 79.75\n",
            "Angle between Vector 2 and Vector 5: 69.74\n",
            "Angle between Vector 3 and Vector 4: 36.53\n",
            "Angle between Vector 3 and Vector 5: 65.59\n",
            "Angle between Vector 4 and Vector 5: 62.12\n"
          ]
        }
      ]
    },
    {
      "cell_type": "markdown",
      "source": [
        "Large number of Dimensions"
      ],
      "metadata": {
        "id": "JxmQdIG3acFp"
      }
    },
    {
      "cell_type": "code",
      "source": [
        "# Declaring the number of vectors and dimensions of the vectors\n",
        "\n",
        "# Number of vectors\n",
        "m = 5\n",
        "# Dimension of vectors\n",
        "N = 1000"
      ],
      "metadata": {
        "id": "NSDIbyKgYE_E"
      },
      "execution_count": 104,
      "outputs": []
    },
    {
      "cell_type": "code",
      "source": [
        "# Generate values by calling the functions\n",
        "vectors = genVec(m, N)\n",
        "distances = disCal(vectors)\n",
        "angles = angCal(vectors)"
      ],
      "metadata": {
        "id": "xMEpbZUCawvy"
      },
      "execution_count": 105,
      "outputs": []
    },
    {
      "cell_type": "code",
      "source": [
        "# Print results\n",
        "\n",
        "\"\"\"\n",
        "print(\"Generated Vectors:\")\n",
        "for i, vector in enumerate(vectors):\n",
        "  print(f\"Vector {i+1}: {vector}\")\n",
        "   \"\"\"\n",
        "print(\"\\nDistances from origin: (units)\")\n",
        "for i, distance in enumerate(distances):\n",
        "  print(f\"Vector {i+1}: {round(distance, 3)}\")\n",
        "\n",
        "print(\"\\nAngles between vectors (in degrees):\")\n",
        "for i in range(m):\n",
        "  for j in range(i+1, m):\n",
        "    print(f\"Angle between Vector {i+1} and Vector {j+1}: {angles[i, j]:.2f}\")"
      ],
      "metadata": {
        "colab": {
          "base_uri": "https://localhost:8080/"
        },
        "id": "J0_tSua3a0lE",
        "outputId": "572dad2e-bc04-4d0f-a5a9-69934b456664"
      },
      "execution_count": 106,
      "outputs": [
        {
          "output_type": "stream",
          "name": "stdout",
          "text": [
            "\n",
            "Distances from origin: (units)\n",
            "Vector 1: 1.019\n",
            "Vector 2: 0.991\n",
            "Vector 3: 1.01\n",
            "Vector 4: 1.0\n",
            "Vector 5: 1.012\n",
            "\n",
            "Angles between vectors (in degrees):\n",
            "Angle between Vector 1 and Vector 2: 88.59\n",
            "Angle between Vector 1 and Vector 3: 89.16\n",
            "Angle between Vector 1 and Vector 4: 86.44\n",
            "Angle between Vector 1 and Vector 5: 86.67\n",
            "Angle between Vector 2 and Vector 3: 91.56\n",
            "Angle between Vector 2 and Vector 4: 87.68\n",
            "Angle between Vector 2 and Vector 5: 89.20\n",
            "Angle between Vector 3 and Vector 4: 93.14\n",
            "Angle between Vector 3 and Vector 5: 92.10\n",
            "Angle between Vector 4 and Vector 5: 87.78\n"
          ]
        }
      ]
    },
    {
      "cell_type": "markdown",
      "source": [
        "Very Large number of Dimensions"
      ],
      "metadata": {
        "id": "mu32yKXaagx6"
      }
    },
    {
      "cell_type": "code",
      "source": [
        "# Declaring the number of vectors and dimensions of the vectors\n",
        "\n",
        "# Number of vectors\n",
        "m = 5\n",
        "# Dimension of vectors\n",
        "N = 100000"
      ],
      "metadata": {
        "id": "mNmF_c_CagIy"
      },
      "execution_count": 107,
      "outputs": []
    },
    {
      "cell_type": "code",
      "source": [
        "# Generate values by calling the functions\n",
        "vectors = genVec(m, N)\n",
        "distances = disCal(vectors)\n",
        "angles = angCal(vectors)"
      ],
      "metadata": {
        "id": "gIUItkzWbB1B"
      },
      "execution_count": 61,
      "outputs": []
    },
    {
      "cell_type": "code",
      "source": [
        "# Print results\n",
        "\n",
        "\"\"\"\n",
        "print(\"Generated Vectors:\")\n",
        "for i, vector in enumerate(vectors):\n",
        "  print(f\"Vector {i+1}: {vector}\")\n",
        "   \"\"\"\n",
        "print(\"\\nDistances from origin: (units)\")\n",
        "for i, distance in enumerate(distances):\n",
        "  print(f\"Vector {i+1}: {round(distance, 3)}\")\n",
        "\n",
        "print(\"\\nAngles between vectors (in degrees):\")\n",
        "for i in range(m):\n",
        "  for j in range(i+1, m):\n",
        "    print(f\"Angle between Vector {i+1} and Vector {j+1}: {angles[i, j]:.2f}\")"
      ],
      "metadata": {
        "colab": {
          "base_uri": "https://localhost:8080/"
        },
        "id": "ISYMbXRTbC7q",
        "outputId": "3fe86724-0ea5-4c47-b634-2f6434bc4633"
      },
      "execution_count": 108,
      "outputs": [
        {
          "output_type": "stream",
          "name": "stdout",
          "text": [
            "\n",
            "Distances from origin: (units)\n",
            "Vector 1: 1.019\n",
            "Vector 2: 0.991\n",
            "Vector 3: 1.01\n",
            "Vector 4: 1.0\n",
            "Vector 5: 1.012\n",
            "\n",
            "Angles between vectors (in degrees):\n",
            "Angle between Vector 1 and Vector 2: 88.59\n",
            "Angle between Vector 1 and Vector 3: 89.16\n",
            "Angle between Vector 1 and Vector 4: 86.44\n",
            "Angle between Vector 1 and Vector 5: 86.67\n",
            "Angle between Vector 2 and Vector 3: 91.56\n",
            "Angle between Vector 2 and Vector 4: 87.68\n",
            "Angle between Vector 2 and Vector 5: 89.20\n",
            "Angle between Vector 3 and Vector 4: 93.14\n",
            "Angle between Vector 3 and Vector 5: 92.10\n",
            "Angle between Vector 4 and Vector 5: 87.78\n"
          ]
        }
      ]
    },
    {
      "cell_type": "markdown",
      "source": [
        "Observation -\n",
        "\n",
        "\n",
        "*   as the number of dimensions increase, the angle\n",
        "between the vectors becomes more or less 90 degrees and the distance reaches 1 units\n",
        "\n",
        "\n",
        "\n",
        "*   This holds true when the number of dimensions reaches 1000 and then onwards\n",
        "\n"
      ],
      "metadata": {
        "id": "mAL0oqLxcQ-c"
      }
    }
  ]
}