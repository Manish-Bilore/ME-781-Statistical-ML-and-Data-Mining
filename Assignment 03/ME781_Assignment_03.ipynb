{
  "nbformat": 4,
  "nbformat_minor": 0,
  "metadata": {
    "colab": {
      "provenance": [],
      "authorship_tag": "ABX9TyMK6PT4xaZ5BPen5G51p09p",
      "include_colab_link": true
    },
    "kernelspec": {
      "name": "python3",
      "display_name": "Python 3"
    },
    "language_info": {
      "name": "python"
    }
  },
  "cells": [
    {
      "cell_type": "markdown",
      "metadata": {
        "id": "view-in-github",
        "colab_type": "text"
      },
      "source": [
        "<a href=\"https://colab.research.google.com/github/Manish-Bilore/ME-781-Statistical-ML-and-Data-Mining/blob/main/ME781_Assignment_03.ipynb\" target=\"_parent\"><img src=\"https://colab.research.google.com/assets/colab-badge.svg\" alt=\"Open In Colab\"/></a>"
      ]
    },
    {
      "cell_type": "markdown",
      "source": [
        "Python program that takes a 3D point as an input and calculates its Euclidean norm and Mahalanobis norm from the center of the two clusters of data given in the attachment. Visualize the clusters and the input data point in a 3D plot."
      ],
      "metadata": {
        "id": "Oln-jT98loip"
      }
    },
    {
      "cell_type": "code",
      "execution_count": 1,
      "metadata": {
        "colab": {
          "base_uri": "https://localhost:8080/"
        },
        "id": "UAQmSm6IlcP2",
        "outputId": "bdb0991d-3a6d-40ad-8c4c-34f15de0c017"
      },
      "outputs": [
        {
          "output_type": "stream",
          "name": "stdout",
          "text": [
            "Mounted at /content/drive\n"
          ]
        }
      ],
      "source": [
        "# Load the data repo\n",
        "from google.colab import drive\n",
        "drive.mount('/content/drive')"
      ]
    },
    {
      "cell_type": "code",
      "source": [
        "# import lib\n",
        "import pandas as pd\n",
        "import numpy as np\n",
        "import matplotlib as plt\n",
        "import random as rd"
      ],
      "metadata": {
        "id": "CIcsjQcDmpBo"
      },
      "execution_count": 26,
      "outputs": []
    },
    {
      "cell_type": "markdown",
      "source": [
        "Define File Path"
      ],
      "metadata": {
        "id": "KeRpUKSymO5A"
      }
    },
    {
      "cell_type": "code",
      "source": [
        "file_path_cluster01 = '/content/drive/MyDrive/ME781/Assignment 03/3D_cluster1.csv'\n",
        "file_path_cluster02 = '/content/drive/MyDrive/ME781/Assignment 03/3D_cluster2.csv'"
      ],
      "metadata": {
        "id": "2ktCPrgVmQvp"
      },
      "execution_count": 2,
      "outputs": []
    },
    {
      "cell_type": "markdown",
      "source": [
        "Read the data"
      ],
      "metadata": {
        "id": "fXJQrtO-mjf9"
      }
    },
    {
      "cell_type": "code",
      "source": [
        "# Cluster 01\n",
        "df_c1 = pd.read_csv(file_path_cluster01)\n",
        "\n",
        "# Cluster 02\n",
        "df_c2 = pd.read_csv(file_path_cluster02)"
      ],
      "metadata": {
        "id": "Dxfjny6Sml0U"
      },
      "execution_count": 13,
      "outputs": []
    },
    {
      "cell_type": "markdown",
      "source": [
        "Find the Center of the two clusters"
      ],
      "metadata": {
        "id": "WJgXXHOmyWOE"
      }
    },
    {
      "cell_type": "code",
      "source": [
        "# Define the function to find the centeroid of the cluster of data\n",
        "\n",
        "def centeroid(dataframe):\n",
        "  x_val = dataframe['x'].mean()\n",
        "  y_val = dataframe['y'].mean()\n",
        "  z_val = dataframe['z'].mean()\n",
        "\n",
        "  return (x_val, y_val, z_val)"
      ],
      "metadata": {
        "id": "cc8qEsqPocDK"
      },
      "execution_count": 19,
      "outputs": []
    },
    {
      "cell_type": "code",
      "source": [
        "# Call the function to find the centeroid of the cluster of data\n",
        "\n",
        "cen_c1 = centeroid(df_c1)\n",
        "cen_c2 = centeroid(df_c2)"
      ],
      "metadata": {
        "id": "yb7EoUoqpHC4"
      },
      "execution_count": 34,
      "outputs": []
    },
    {
      "cell_type": "code",
      "source": [
        "cen_c1"
      ],
      "metadata": {
        "colab": {
          "base_uri": "https://localhost:8080/"
        },
        "id": "OmvnjxTIr6Ze",
        "outputId": "2437f0ba-2164-4ff5-9d5a-237a29b1af83"
      },
      "execution_count": 35,
      "outputs": [
        {
          "output_type": "execute_result",
          "data": {
            "text/plain": [
              "(14.29567940652862, 19.89971000126273, 14.887433561809287)"
            ]
          },
          "metadata": {},
          "execution_count": 35
        }
      ]
    },
    {
      "cell_type": "markdown",
      "source": [
        "#  3D point\n",
        "\n",
        "Generate a random 3D point"
      ],
      "metadata": {
        "id": "tgTnSSKzqHj-"
      }
    },
    {
      "cell_type": "code",
      "source": [
        "# Generate random x, y, z coordinates\n",
        "test_point = np.random.uniform(-100, 100, size = 3)"
      ],
      "metadata": {
        "id": "Iir__W4-qL1e"
      },
      "execution_count": 24,
      "outputs": []
    },
    {
      "cell_type": "code",
      "source": [
        "test_point"
      ],
      "metadata": {
        "colab": {
          "base_uri": "https://localhost:8080/"
        },
        "id": "KDDOL6fjqpAT",
        "outputId": "effa8b6e-3142-4e00-a426-5aa7cc973cb3"
      },
      "execution_count": 25,
      "outputs": [
        {
          "output_type": "execute_result",
          "data": {
            "text/plain": [
              "array([-14.79909502,  -6.03868828,  93.64060922])"
            ]
          },
          "metadata": {},
          "execution_count": 25
        }
      ]
    },
    {
      "cell_type": "code",
      "source": [
        "# Random point\n",
        "minlim = -100\n",
        "maxlim = 100\n",
        "\n",
        "x_test = rd.uniform(minlim, maxlim)\n",
        "y_test = rd.uniform(minlim, maxlim)\n",
        "z_test = rd.uniform(minlim, maxlim)\n",
        "\n",
        "rd_pt = (x_test, y_test, z_test)\n",
        "\n",
        "rd_pt"
      ],
      "metadata": {
        "colab": {
          "base_uri": "https://localhost:8080/"
        },
        "id": "69jbmeYBqyY4",
        "outputId": "9e692703-66d8-4225-f6ef-531a279c469c"
      },
      "execution_count": 31,
      "outputs": [
        {
          "output_type": "execute_result",
          "data": {
            "text/plain": [
              "(46.2952503086571, -17.23546205298338, 56.951146332665814)"
            ]
          },
          "metadata": {},
          "execution_count": 31
        }
      ]
    },
    {
      "cell_type": "markdown",
      "source": [
        "# Euclidean Norm\n",
        "\n",
        "Euclidean norm of a vector is also known as the L2 norm or the magnitude of the vector. It is calculated as the square root of the sum of the squares of the vector's components\n",
        "\n",
        "If you have a vector $\\textbf{v} = [v_1, v_2, \\cdots, v_n]$\n",
        "\n",
        "then the Euclidean norm is given by:\n",
        "\n",
        "$\\||v||_2 = \\sqrt{v_1^2 + v_2^2 + \\cdots + v_n^2}$\n",
        "\n",
        "The Euclidean distance between a point $x$ and the center of a cluster $𝜇$ is given by:\n",
        "\n",
        "$d_E = \\sqrt{(x_1 - 𝜇_1)^2 + (x_2 - 𝜇_2)^2 + (x_1 - 𝜇_3)^2}$\n"
      ],
      "metadata": {
        "id": "vpVwsGW-s9hF"
      }
    },
    {
      "cell_type": "code",
      "source": [
        "# Euclidean distances\n",
        "\n",
        "# Cluster 01\n",
        "euclidean_distance1 = np.linalg.norm(test_point - cen_c1)\n",
        "\n",
        "# Cluster 02\n",
        "euclidean_distance2 = np.linalg.norm(test_point - cen_c2)"
      ],
      "metadata": {
        "id": "XmDqtWJrtBKo"
      },
      "execution_count": 44,
      "outputs": []
    },
    {
      "cell_type": "markdown",
      "source": [
        "# Mahalanobis Norm\n",
        "\n",
        "The Mahalanobis norm is a generalization of the Euclidean norm that takes into account the correlation between variables."
      ],
      "metadata": {
        "id": "MMtm0B3kwy4S"
      }
    },
    {
      "cell_type": "code",
      "source": [
        "# Covariance matrix\n",
        "\n",
        "# Cluster 01\n",
        "cov_mat1 = np.cov(df_c1, rowvar=False)\n",
        "\n",
        "# Cluster 02\n",
        "cov_mat2 = np.cov(df_c2, rowvar=False)"
      ],
      "metadata": {
        "id": "RZIJwH9qyda5"
      },
      "execution_count": 45,
      "outputs": []
    },
    {
      "cell_type": "code",
      "source": [
        "# Inverse of covariance matrices\n",
        "\n",
        "# Cluster 01\n",
        "inv_cov_mat1 =np.linalg.inv(cov_mat1)\n",
        "\n",
        "# Cluster 02\n",
        "inv_cov_mat2 =np.linalg.inv(cov_mat2)"
      ],
      "metadata": {
        "id": "DA_0HhBA0HdH"
      },
      "execution_count": 46,
      "outputs": []
    },
    {
      "cell_type": "code",
      "source": [
        "# Mahalanobis distances\n",
        "\n",
        "# Cluster 01\n",
        "mahalanobis_dist1 = np.sqrt((test_point - cen_c1).T @ inv_cov_mat1 @ (test_point - cen_c1))\n",
        "\n",
        "# Cluster 02\n",
        "mahalanobis_dist2 = np.sqrt((test_point - cen_c2).T @ inv_cov_mat2 @ (test_point - cen_c2))"
      ],
      "metadata": {
        "id": "nTsZd5eFz0Zt"
      },
      "execution_count": 47,
      "outputs": []
    },
    {
      "cell_type": "markdown",
      "source": [
        "# Print the results\n"
      ],
      "metadata": {
        "id": "rcUtKGal02HO"
      }
    },
    {
      "cell_type": "code",
      "source": [
        "print(\"Euclidean Distance from Center 1:\", round(euclidean_distance1, 3))\n",
        "print(\"Euclidean Distance from Center 2:\", round(euclidean_distance2, 3))\n",
        "print(\"\\n\")\n",
        "print(\"Mahalanobis Distance from Center 1:\", round(mahalanobis_dist1, 3))\n",
        "print(\"Mahalanobis Distance from Center 2:\", round(mahalanobis_dist2, 3))"
      ],
      "metadata": {
        "colab": {
          "base_uri": "https://localhost:8080/"
        },
        "id": "m0y-a5cz04Sf",
        "outputId": "9bbbad66-4821-4aa0-9a02-0a24a87ded70"
      },
      "execution_count": 51,
      "outputs": [
        {
          "output_type": "stream",
          "name": "stdout",
          "text": [
            "Euclidean Distance from Center 1: 87.871\n",
            "Euclidean Distance from Center 2: 87.896\n",
            "\n",
            "\n",
            "Mahalanobis Distance from Center 1: 86.954\n",
            "Mahalanobis Distance from Center 2: 19.235\n"
          ]
        }
      ]
    }
  ]
}
