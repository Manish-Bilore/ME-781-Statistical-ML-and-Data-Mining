{
  "nbformat": 4,
  "nbformat_minor": 0,
  "metadata": {
    "colab": {
      "provenance": [],
      "authorship_tag": "ABX9TyPaN0W1Erg/UV/k+be0x7cy",
      "include_colab_link": true
    },
    "kernelspec": {
      "name": "python3",
      "display_name": "Python 3"
    },
    "language_info": {
      "name": "python"
    }
  },
  "cells": [
    {
      "cell_type": "markdown",
      "metadata": {
        "id": "view-in-github",
        "colab_type": "text"
      },
      "source": [
        "<a href=\"https://colab.research.google.com/github/Manish-Bilore/ME-781-Statistical-ML-and-Data-Mining/blob/main/ME781_Assignment_03.ipynb\" target=\"_parent\"><img src=\"https://colab.research.google.com/assets/colab-badge.svg\" alt=\"Open In Colab\"/></a>"
      ]
    },
    {
      "cell_type": "markdown",
      "source": [
        "# Assignment 03\n",
        "\n",
        "Python program that takes a 3D point as an input and calculates its Euclidean norm and Mahalanobis norm from the center of the two clusters of data given in the attachment. Visualize the clusters and the input data point in a 3D plot."
      ],
      "metadata": {
        "id": "Oln-jT98loip"
      }
    },
    {
      "cell_type": "code",
      "execution_count": 120,
      "metadata": {
        "colab": {
          "base_uri": "https://localhost:8080/"
        },
        "id": "UAQmSm6IlcP2",
        "outputId": "bf2010bb-337c-48f7-9a31-308e74eaa9f5"
      },
      "outputs": [
        {
          "output_type": "stream",
          "name": "stdout",
          "text": [
            "Drive already mounted at /content/drive; to attempt to forcibly remount, call drive.mount(\"/content/drive\", force_remount=True).\n"
          ]
        }
      ],
      "source": [
        "# Load the data repo\n",
        "from google.colab import drive\n",
        "drive.mount('/content/drive')"
      ]
    },
    {
      "cell_type": "code",
      "source": [
        "# import lib\n",
        "import pandas as pd\n",
        "import numpy as np\n",
        "from matplotlib import pyplot as plt\n",
        "import random as rd"
      ],
      "metadata": {
        "id": "CIcsjQcDmpBo"
      },
      "execution_count": 121,
      "outputs": []
    },
    {
      "cell_type": "markdown",
      "source": [
        "Define File Path"
      ],
      "metadata": {
        "id": "KeRpUKSymO5A"
      }
    },
    {
      "cell_type": "code",
      "source": [
        "file_path_cluster01 = '/content/drive/MyDrive/ME781/Assignment 03/3D_cluster1.csv'\n",
        "file_path_cluster02 = '/content/drive/MyDrive/ME781/Assignment 03/3D_cluster2.csv'"
      ],
      "metadata": {
        "id": "2ktCPrgVmQvp"
      },
      "execution_count": 122,
      "outputs": []
    },
    {
      "cell_type": "markdown",
      "source": [
        "Read the data"
      ],
      "metadata": {
        "id": "fXJQrtO-mjf9"
      }
    },
    {
      "cell_type": "code",
      "source": [
        "# Cluster 01\n",
        "df_c1 = pd.read_csv(file_path_cluster01)\n",
        "\n",
        "# Cluster 02\n",
        "df_c2 = pd.read_csv(file_path_cluster02)"
      ],
      "metadata": {
        "id": "Dxfjny6Sml0U"
      },
      "execution_count": 123,
      "outputs": []
    },
    {
      "cell_type": "markdown",
      "source": [
        "# Find the Center of the two clusters"
      ],
      "metadata": {
        "id": "WJgXXHOmyWOE"
      }
    },
    {
      "cell_type": "code",
      "source": [
        "# Define the function to find the centeroid of the cluster of data\n",
        "\n",
        "def centeroid(dataframe):\n",
        "  x_val = float(dataframe['x'].mean())\n",
        "  y_val = float(dataframe['y'].mean())\n",
        "  z_val = float(dataframe['z'].mean())\n",
        "\n",
        "  return (x_val, y_val, z_val)"
      ],
      "metadata": {
        "id": "cc8qEsqPocDK"
      },
      "execution_count": 124,
      "outputs": []
    },
    {
      "cell_type": "code",
      "source": [
        "# Call the function to find the centeroid of the cluster of data\n",
        "\n",
        "cen_c1 = centeroid(df_c1)\n",
        "cen_c2 = centeroid(df_c2)"
      ],
      "metadata": {
        "id": "yb7EoUoqpHC4"
      },
      "execution_count": 125,
      "outputs": []
    },
    {
      "cell_type": "markdown",
      "source": [
        "#  3D point\n",
        "\n",
        "Generate a random 3D point"
      ],
      "metadata": {
        "id": "tgTnSSKzqHj-"
      }
    },
    {
      "cell_type": "code",
      "source": [
        "# Generate random x, y, z coordinates\n",
        "test_point = np.random.uniform(10, 50, size = 3)"
      ],
      "metadata": {
        "id": "Iir__W4-qL1e"
      },
      "execution_count": 126,
      "outputs": []
    },
    {
      "cell_type": "markdown",
      "source": [
        "# Euclidean Norm\n",
        "\n",
        "Euclidean norm of a vector is also known as the L2 norm or the magnitude of the vector. It is calculated as the square root of the sum of the squares of the vector's components\n",
        "\n",
        "If you have a vector $\\textbf{v} = [v_1, v_2, \\cdots, v_n]$\n",
        "\n",
        "then the Euclidean norm is given by:\n",
        "\n",
        "$\\||v||_2 = \\sqrt{v_1^2 + v_2^2 + \\cdots + v_n^2}$\n",
        "\n",
        "where\n",
        "\n",
        "*  $v$ : The vector for which norm is being calculated\n",
        "\n",
        "*  $v_i$ : The $i$-th component for the vector $v$\n",
        "\n",
        "*  $||v||_2$ : Euclidean or L2 norm of the vector $v$, representing the magnitude of the vecor in ht n-dimensional space\n",
        "\n",
        "# Euclidean distance\n",
        "\n",
        "The Euclidean distance between a point $x$ and the center of a cluster $𝜇$ is given by:\n",
        "\n",
        "$d_E = \\sqrt{(x_1 - 𝜇_1)^2 + (x_2 - 𝜇_2)^2 + \\cdots + (x_n - 𝜇_n)^2}$\n",
        "\n",
        "where\n",
        "\n",
        "* $x$ : point or vector from where the distance is measured\n",
        "*  𝜇 : reference point or the center of a cluster (mean)\n",
        "*  $x_i$ : The $i$-th component for the point $x$\n",
        "*  $𝜇_i$ : The $i$-th component for the point $𝜇$\n",
        "* $d_E$ : The Euclidean distance between the point 𝑥 and the center of the cluster 𝜇. It represents the straight-line distance between these two points in n-dimensional space\n"
      ],
      "metadata": {
        "id": "vpVwsGW-s9hF"
      }
    },
    {
      "cell_type": "code",
      "source": [
        "# Euclidean distances\n",
        "\n",
        "# Cluster 01\n",
        "euclidean_distance1 = np.linalg.norm(test_point - cen_c1)\n",
        "\n",
        "# Cluster 02\n",
        "euclidean_distance2 = np.linalg.norm(test_point - cen_c2)"
      ],
      "metadata": {
        "id": "XmDqtWJrtBKo"
      },
      "execution_count": 127,
      "outputs": []
    },
    {
      "cell_type": "markdown",
      "source": [
        "# Mahalanobis Norm\n",
        "\n",
        "The Mahalanobis norm is a generalization of the Euclidean norm that takes into account the correlation between variables.\n",
        "\n",
        "calculate distances between points in a space where the variance differs across dimensions\n",
        "\n",
        "useful when dealing with multivariate data, where variables are correlated\n",
        "\n",
        "# Mahalanobis Distance:\n",
        "\n",
        "$d_M(x) = \\sqrt{(x - 𝜇)^T Σ^{-1}(x - 𝜇)}$\n",
        "\n",
        "where\n",
        "* $x$ : vector representation of the point\n",
        "* $μ$ : mean vector of the cluster\n",
        "* $Σ^{-1}$ : inverse covarianve matrix\n",
        "\n",
        "# Usage:\n",
        "\n",
        "Anomaly Detection: used to detect outliers by measuring how far a point is from the mean in terms of standard deviations\n",
        "\n",
        "Classification: helps classify points by measuring the distance to different class centroids\n",
        "\n",
        "# Mahalanobis Norm:\n",
        "\n",
        "When applied as a norm, it involves standardizing the data by the covariance matrix to measure distances more appropriately in the context of multivariate distributions\n",
        "\n",
        "In practice, the Mahalanobis distance is useful in multivariate dataset and to understand distances or anomalies accounting for the underlying structure of the data"
      ],
      "metadata": {
        "id": "MMtm0B3kwy4S"
      }
    },
    {
      "cell_type": "code",
      "source": [
        "# Covariance matrix\n",
        "\n",
        "# Cluster 01\n",
        "cov_mat1 = np.cov(df_c1, rowvar=False)\n",
        "\n",
        "# Cluster 02\n",
        "cov_mat2 = np.cov(df_c2, rowvar=False)"
      ],
      "metadata": {
        "id": "RZIJwH9qyda5"
      },
      "execution_count": 128,
      "outputs": []
    },
    {
      "cell_type": "code",
      "source": [
        "# Inverse of covariance matrices\n",
        "\n",
        "# Cluster 01\n",
        "inv_cov_mat1 =np.linalg.inv(cov_mat1)\n",
        "\n",
        "# Cluster 02\n",
        "inv_cov_mat2 =np.linalg.inv(cov_mat2)"
      ],
      "metadata": {
        "id": "DA_0HhBA0HdH"
      },
      "execution_count": 129,
      "outputs": []
    },
    {
      "cell_type": "code",
      "source": [
        "# Mahalanobis distances\n",
        "\n",
        "# Cluster 01\n",
        "mahalanobis_dist1 = np.sqrt((test_point - cen_c1).T @ inv_cov_mat1 @ (test_point - cen_c1))\n",
        "\n",
        "# Cluster 02\n",
        "mahalanobis_dist2 = np.sqrt((test_point - cen_c2).T @ inv_cov_mat2 @ (test_point - cen_c2))"
      ],
      "metadata": {
        "id": "nTsZd5eFz0Zt"
      },
      "execution_count": 130,
      "outputs": []
    },
    {
      "cell_type": "markdown",
      "source": [
        "# Print the results\n"
      ],
      "metadata": {
        "id": "rcUtKGal02HO"
      }
    },
    {
      "cell_type": "code",
      "source": [
        "print(\"Euclidean Distance from Center 1:\", round(euclidean_distance1, 3))\n",
        "print(\"Euclidean Distance from Center 2:\", round(euclidean_distance2, 3))\n",
        "print(\"\\n\")\n",
        "print(\"Mahalanobis Distance from Center 1:\", round(mahalanobis_dist1, 3))\n",
        "print(\"Mahalanobis Distance from Center 2:\", round(mahalanobis_dist2, 3))"
      ],
      "metadata": {
        "colab": {
          "base_uri": "https://localhost:8080/"
        },
        "id": "m0y-a5cz04Sf",
        "outputId": "f9f9879d-4158-43a7-af8e-c19ae5305234"
      },
      "execution_count": 131,
      "outputs": [
        {
          "output_type": "stream",
          "name": "stdout",
          "text": [
            "Euclidean Distance from Center 1: 46.444\n",
            "Euclidean Distance from Center 2: 36.314\n",
            "\n",
            "\n",
            "Mahalanobis Distance from Center 1: 34.445\n",
            "Mahalanobis Distance from Center 2: 7.486\n"
          ]
        }
      ]
    },
    {
      "cell_type": "markdown",
      "source": [
        "# Visualise the results"
      ],
      "metadata": {
        "id": "My0ahkIJ7Xv4"
      }
    },
    {
      "cell_type": "code",
      "source": [
        "# Cluster 01\n",
        "ax = df_c1.plot(kind='scatter', x='x', y='y', s=16, alpha=.8, color='#ADD8E6', label='Cluster 01')\n",
        "\n",
        "# Cluster 01 Center\n",
        "plt.scatter(cen_c1[0], cen_c1[1], color='blue', s=32, label='Cluster 01 Center')\n",
        "\n",
        "# Cluster 02\n",
        "df_c2.plot(kind='scatter', x='x', y='y', s=16, alpha=.8, color='#0BDA51', label='Cluster 02', ax=ax)\n",
        "\n",
        "# Cluster 02 Center\n",
        "plt.scatter(cen_c2[0], cen_c2[1], color='#228B22', s=32, label='Cluster 02 Center')\n",
        "\n",
        "# Test Point\n",
        "plt.scatter(test_point[0], test_point[1], color='red', s=32, label='Test Point')\n",
        "\n",
        "# Add line b/n Test Point and Cluster Center\n",
        "plt.plot([test_point[0], cen_c1[0]], [test_point[1], cen_c1[1]], color='blue', linewidth=0.5)\n",
        "plt.plot([test_point[0], cen_c2[0]], [test_point[1], cen_c2[1]], color='green', linewidth=0.5)\n",
        "\n",
        "# Add legend\n",
        "plt.legend()"
      ],
      "metadata": {
        "colab": {
          "base_uri": "https://localhost:8080/",
          "height": 466
        },
        "id": "2u4JL4tR7Xdl",
        "outputId": "bafa9175-6d75-41c4-dd88-3b4a55c8b6ac"
      },
      "execution_count": 132,
      "outputs": [
        {
          "output_type": "execute_result",
          "data": {
            "text/plain": [
              "<matplotlib.legend.Legend at 0x7a9b01dabc10>"
            ]
          },
          "metadata": {},
          "execution_count": 132
        },
        {
          "output_type": "display_data",
          "data": {
            "text/plain": [
              "<Figure size 640x480 with 1 Axes>"
            ],
            "image/png": "[encoded data removed]"
          },
          "metadata": {}
        }
      ]
    },
    {
      "cell_type": "markdown",
      "source": [
        "# Visualise the results with Projection Lines"
      ],
      "metadata": {
        "id": "x315Dtc-MWnv"
      }
    },
    {
      "cell_type": "code",
      "source": [
        "\n",
        "\n",
        "# Cluster 01\n",
        "ax = df_c1.plot(kind='scatter', x='x', y='y', s=16, alpha=.8, color='#ADD8E6', label='Cluster 01')\n",
        "\n",
        "# Cluster 01 Center\n",
        "plt.scatter(cen_c1[0], cen_c1[1], color='blue', s=32, label='Cluster 01 Center')\n",
        "\n",
        "# Cluster 02\n",
        "df_c2.plot(kind='scatter', x='x', y='y', s=16, alpha=.8, color='#0BDA51', label='Cluster 02', ax=ax)\n",
        "\n",
        "# Cluster 02 Center\n",
        "plt.scatter(cen_c2[0], cen_c2[1], color='#228B22', s=32, label='Cluster 02 Center')\n",
        "\n",
        "# Draw the x-axis (y=0) and y-axis (x=0) lines\n",
        "plt.axhline(0, color='black', linewidth=1)  # x-axis\n",
        "plt.axvline(0, color='black', linewidth=1)  # y-axis\n",
        "\n",
        "# Test Point\n",
        "plt.scatter(test_point[0], test_point[1], color='red', s=32, label='Test Point')\n",
        "\n",
        "# Add line b/n Test Point and Cluster Center\n",
        "plt.plot([test_point[0], cen_c1[0]], [test_point[1], cen_c1[1]], color='blue', linewidth=0.5)\n",
        "plt.plot([test_point[0], cen_c2[0]], [test_point[1], cen_c2[1]], color='green', linewidth=0.5)\n",
        "\n",
        "# Project point\n",
        "point = cen_c1\n",
        "projection_x = (point[0], 0)\n",
        "projection_y = (0, point[1])\n",
        "\n",
        "# Plot the projections\n",
        "plt.scatter(projection_x[0], projection_x[1], color='#6495ED', s=20)\n",
        "plt.scatter(projection_y[0], projection_y[1], color='#6495ED', s=20)\n",
        "\n",
        "# Plot lines for projections\n",
        "plt.plot([point[0], projection_x[0]], [point[1], projection_x[1]], color='#6495ED', linestyle='--', linewidth=0.5)\n",
        "plt.plot([point[0], projection_y[0]], [point[1], projection_y[1]], color='#6495ED', linestyle='--', linewidth=0.5)\n",
        "\n",
        "# Project point\n",
        "point = cen_c2\n",
        "projection_x = (point[0], 0)\n",
        "projection_y = (0, point[1])\n",
        "\n",
        "# Plot the projections\n",
        "plt.scatter(projection_x[0], projection_x[1], color='#4CBB17', s=20)\n",
        "plt.scatter(projection_y[0], projection_y[1], color='#4CBB17', s=20)\n",
        "\n",
        "# Plot lines for projections\n",
        "plt.plot([point[0], projection_x[0]], [point[1], projection_x[1]], color='#4CBB17', linestyle='--', linewidth=0.5)\n",
        "plt.plot([point[0], projection_y[0]], [point[1], projection_y[1]], color='#4CBB17', linestyle='--', linewidth=0.5)\n",
        "\n",
        "# Project point\n",
        "point = test_point\n",
        "projection_x = (point[0], 0)\n",
        "projection_y = (0, point[1])\n",
        "\n",
        "# Plot the projections\n",
        "plt.scatter(projection_x[0], projection_x[1], color='#FA8072', s=20)\n",
        "plt.scatter(projection_y[0], projection_y[1], color='#FA8072', s=20)\n",
        "\n",
        "# Plot lines for projections\n",
        "plt.plot([point[0], projection_x[0]], [point[1], projection_x[1]], color='#FA8072', linestyle='--', linewidth=0.5)\n",
        "plt.plot([point[0], projection_y[0]], [point[1], projection_y[1]], color='#FA8072', linestyle='--', linewidth=0.5)\n",
        "\n",
        "\n",
        "\n",
        "\n",
        "plt.gca().spines[['top', 'right']].set_visible(False)\n",
        "\n",
        "# Add legend\n",
        "plt.legend()"
      ],
      "metadata": {
        "colab": {
          "base_uri": "https://localhost:8080/",
          "height": 471
        },
        "id": "lN7RAYpWJQ86",
        "outputId": "2c36b50e-5734-43c2-f919-645c0ec10e54"
      },
      "execution_count": 133,
      "outputs": [
        {
          "output_type": "execute_result",
          "data": {
            "text/plain": [
              "<matplotlib.legend.Legend at 0x7a9b019c9510>"
            ]
          },
          "metadata": {},
          "execution_count": 133
        },
        {
          "output_type": "display_data",
          "data": {
            "text/plain": [
              "<Figure size 640x480 with 1 Axes>"
            ],
            "image/png": "[encoded data removed]"
          },
          "metadata": {}
        }
      ]
    }
  ]
}